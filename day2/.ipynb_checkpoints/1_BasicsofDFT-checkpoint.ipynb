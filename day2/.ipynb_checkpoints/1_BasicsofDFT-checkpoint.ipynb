{
 "cells": [
  {
   "cell_type": "markdown",
   "metadata": {
    "code_folding": [
     0,
     11
    ]
   },
   "source": [
    "# Fourier Work\n",
    "The following are exercises from Mark Newman's Computational Physics book."
   ]
  },
  {
   "cell_type": "markdown",
   "metadata": {},
   "source": [
    "## 1) Basics of DFTs"
   ]
  },
  {
   "cell_type": "code",
   "execution_count": 1,
   "metadata": {
    "collapsed": true
   },
   "outputs": [],
   "source": [
    "import numba\n",
    "import numpy as np\n",
    "import matplotlib.pyplot as plt\n",
    "%matplotlib notebook"
   ]
  },
  {
   "cell_type": "markdown",
   "metadata": {},
   "source": [
    "1.1 Write a function that performs a discrete Fourier Transform on a *real-valued* signal.\n",
    "\n",
    "Bonus: utilize `numba.njit` to optimize the function."
   ]
  },
  {
   "cell_type": "code",
   "execution_count": 2,
   "metadata": {
    "code_folding": [],
    "collapsed": true
   },
   "outputs": [],
   "source": [
    "# 1.1 SOLUTION\n"
   ]
  },
  {
   "cell_type": "markdown",
   "metadata": {},
   "source": [
    "Consider the sine-wave with period $T$ (and thus frequency $\\frac{1}{T}$). Let's assume that $T$ has units of seconds.\n",
    "\n",
    "\\begin{equation}\n",
    "f(t) = sin(\\frac{2 \\pi}{T}t)\n",
    "\\end{equation}\n",
    "\n",
    "1.2 Using Euler's formula, write this sine wave in the form of a Fourier series.\n",
    "> 1.2 Solution: $f(t) = \\dots$\n",
    "\n",
    "\n",
    "1.3 Take $N$ samples of this sine wave over several complete periods of oscillation (an integer multiple of $T$). That is, at $t = \\frac{n}{N}L$; for $n = 0, 1, ... N-1$."
   ]
  },
  {
   "cell_type": "code",
   "execution_count": 1,
   "metadata": {
    "collapsed": true
   },
   "outputs": [],
   "source": [
    "# 1.3 SOLUTION"
   ]
  },
  {
   "cell_type": "markdown",
   "metadata": {},
   "source": [
    "1.4 Plot the sampled signal, $y_{n}$."
   ]
  },
  {
   "cell_type": "code",
   "execution_count": 2,
   "metadata": {
    "collapsed": true
   },
   "outputs": [],
   "source": [
    "# 1.4 SOLUTION"
   ]
  },
  {
   "cell_type": "markdown",
   "metadata": {
    "code_folding": [
     11
    ]
   },
   "source": [
    "1.5 Perform a real-valued DFT of the sampled wave-form, obtaining $c_{k}$. How many Fourier-coefficients will be produced? Verify that numpy's FFT (for real-valued signals), `np.fft.rfft`, returns the same results. Use the function `numpy.allclose`."
   ]
  },
  {
   "cell_type": "code",
   "execution_count": 3,
   "metadata": {
    "collapsed": true
   },
   "outputs": [],
   "source": [
    "# 1.5 Solution"
   ]
  },
  {
   "cell_type": "markdown",
   "metadata": {},
   "source": [
    "1.6 $k$ takes on integer values: $0, 1, ..., N//2 + 1$. Convert $k$ into frequency, $\\nu$, with units of Hz ( 1 / seconds ).\n"
   ]
  },
  {
   "cell_type": "code",
   "execution_count": 4,
   "metadata": {
    "collapsed": true
   },
   "outputs": [],
   "source": [
    "# 1.6 SOLUTION"
   ]
  },
  {
   "cell_type": "markdown",
   "metadata": {},
   "source": [
    "1.7 What should the plot of $|c_{k}|$ vs $k$,  look like, given the data we took the DFT of?\n",
    "> 1.7 Solution: Explain here"
   ]
  },
  {
   "cell_type": "markdown",
   "metadata": {},
   "source": [
    "1.8 Plot $|c_{\\nu}|$ vs $\\nu$ along with a vertical line, where you predict the peak to occur."
   ]
  },
  {
   "cell_type": "code",
   "execution_count": 5,
   "metadata": {
    "collapsed": true
   },
   "outputs": [],
   "source": [
    "# 1.8 SOLUTION"
   ]
  },
  {
   "cell_type": "markdown",
   "metadata": {},
   "source": [
    "Assume that this peak-valued coefficient, $c_{p}$, is the only non-zero coefficient. In reality there are a few very small, but non-zero coefficients in its viscinity.\n",
    "\n",
    "Given the Fourier series that you wrote above, and the equation for the DFT, see that the following relation must hold\n",
    "\\begin{equation}\n",
    "\\frac{1}{2i}e^{i\\frac{2 \\pi}{T}t} + \\frac{-1}{2i}e^{i\\frac{2 \\pi (T - 1)}{T}t} \\approx \\frac{1}{N}(c_{p}e^{i\\frac{2 \\pi}{T}t} + c^{*}_{p}e^{-i\\frac{2\\pi}{T}t})\n",
    "\\end{equation}\n",
    "\n",
    "1.8 Verify that $\\frac{c_{p}}{N} \\approx \\frac{1}{2i}$"
   ]
  },
  {
   "cell_type": "code",
   "execution_count": 6,
   "metadata": {
    "collapsed": true
   },
   "outputs": [],
   "source": [
    "# 1.8 SOLUTION"
   ]
  },
  {
   "cell_type": "markdown",
   "metadata": {},
   "source": [
    "Recall that the DFT expression on the right exactly reproduces the *sampled* data, and not the exact sine-wave. Furthermore, there are other small, but non-zero coefficients from our DFT that we are ignoring. This is why the equality is only approximate. Try increasing $N$, and see that this improves the precision of the equality.\n",
    "\n",
    "1.9 Using the approximate expression on the right, write a function that performs an inverse DFT in order to recover the sampled data, $y_{n}$:\n",
    "\n",
    "\\begin{equation}\n",
    "y(t_n) \\approx \\frac{1}{N}(c_{p}e^{i\\frac{2 \\pi}{T}t_n} + c^{*}_{p}e^{-i\\frac{2\\pi}{T}t_n})\n",
    "\\end{equation}\n",
    "\n"
   ]
  },
  {
   "cell_type": "code",
   "execution_count": 7,
   "metadata": {
    "collapsed": true
   },
   "outputs": [],
   "source": [
    "# 1.9 SOLUTION"
   ]
  },
  {
   "cell_type": "markdown",
   "metadata": {},
   "source": [
    "1.10 Plot the recovered sampled data and the original data. Once again, note that we are making an approximation in this inverse DFT, since we are only using the peak-valued coefficient. If we utilized all of the coefficients, the resampled data will match **exactly** with the sampled data."
   ]
  },
  {
   "cell_type": "code",
   "execution_count": 8,
   "metadata": {
    "collapsed": true,
    "scrolled": true
   },
   "outputs": [],
   "source": [
    "# 1.10 SOLUTION"
   ]
  },
  {
   "cell_type": "markdown",
   "metadata": {},
   "source": [
    "1.11 Use `np.fft.irfft` to compute the *exact* inverse DFT and verify that it recovers the original sampled data. Use `np.allclose`."
   ]
  },
  {
   "cell_type": "code",
   "execution_count": 9,
   "metadata": {
    "collapsed": true
   },
   "outputs": [],
   "source": [
    "# 1.11"
   ]
  },
  {
   "cell_type": "markdown",
   "metadata": {},
   "source": [
    "1.12 Given this result, what information is needed in addition to the Fourier coefficients to completely reproduce the original data and its domain?\n",
    "> Explanation"
   ]
  }
 ],
 "metadata": {
  "kernelspec": {
   "display_name": "Python [default]",
   "language": "python",
   "name": "python3"
  },
  "language_info": {
   "codemirror_mode": {
    "name": "ipython",
    "version": 3
   },
   "file_extension": ".py",
   "mimetype": "text/x-python",
   "name": "python",
   "nbconvert_exporter": "python",
   "pygments_lexer": "ipython3",
   "version": "3.5.3"
  }
 },
 "nbformat": 4,
 "nbformat_minor": 2
}
