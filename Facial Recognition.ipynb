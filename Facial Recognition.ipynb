{
 "cells": [
  {
   "cell_type": "code",
   "execution_count": null,
   "metadata": {
    "collapsed": true
   },
   "outputs": [],
   "source": [
    "#digital"
   ]
  },
  {
   "cell_type": "code",
   "execution_count": 1,
   "metadata": {},
   "outputs": [
    {
     "name": "stdout",
     "output_type": "stream",
     "text": [
      "Downloading \n",
      "\tfrom http://dlib.net/files/dlib_face_recognition_resnet_model_v1.dat.bz2\n",
      "\tto: /Users/noahthompson/[pythonWork]/DlibModels/dlib_models\n",
      "Downloaded and decompressed: /Users/noahthompson/[pythonWork]/DlibModels/dlib_models/dlib_face_recognition_resnet_model_v1.dat\n",
      "Downloading \n",
      "\tfrom http://dlib.net/files/shape_predictor_68_face_landmarks.dat.bz2\n",
      "\tto: /Users/noahthompson/[pythonWork]/DlibModels/dlib_models\n",
      "Downloaded and decompressed: /Users/noahthompson/[pythonWork]/DlibModels/dlib_models/shape_predictor_68_face_landmarks.dat\n"
     ]
    }
   ],
   "source": [
    "from dlib_models import download_model, download_predictor\n",
    "download_model()\n",
    "download_predictor()\n",
    "\n",
    "\n"
   ]
  },
  {
   "cell_type": "code",
   "execution_count": 5,
   "metadata": {
    "collapsed": true
   },
   "outputs": [],
   "source": [
    "#%matplotlib notebook Uncomment to run in jupyter\n",
    "import matplotlib.pyplot as plt\n",
    "import skimage.io as io\n",
    "import numpy as np\n",
    "\n",
    "from camera import save_camera_config, take_picture\n",
    "from dlib_models import load_dlib_models\n",
    "\n",
    "class facial:\n",
    "    \n",
    "    def __init__(self):\n",
    "        self.database = []\n",
    "        pass\n",
    "    \n",
    "    def camera(self, port=0, exposure=0.2):\n",
    "        save_camera_config(port, exposure)\n",
    "        img_array = take_picture()\n",
    "        self.database.append(img_array)\n",
    "        \n",
    "    @load_dlib_models\n",
    "    def detect(self, img, upscale = 1):\n",
    "        '''\n",
    "        takes in:\n",
    "            -img: an array\n",
    "            -upscale: an integer that represents the\n",
    "            amount of times to upscale the img to detect\n",
    "            smaller faces\n",
    "\n",
    "        returns: a numpy array of dimensions, w, 128 with w being the number of faces\n",
    "        present in the image each one having a corresponding 128 size vector.\n",
    "\n",
    "        '''\n",
    "        from dlib_models import models\n",
    "\n",
    "        face_detect = models[\"face detect\"]\n",
    "        face_rec_model = models[\"face rec\"]\n",
    "        shape_predictor = models[\"shape predict\"]\n",
    "\n",
    "        detections = face_detect(img, upscale)\n",
    "        detections = list(detections)\n",
    "\n",
    "        faceList = np.zeros((len(detections), 128))\n",
    "\n",
    "\n",
    "        for it in range(len(detections)):\n",
    "            det = detections[it]\n",
    "            shape = shape_predictor(img, det)\n",
    "            descriptor = np.array(face_rec_model.compute_face_descriptor(img, shape))\n",
    "            faceList[it] = descriptor\n",
    "\n",
    "        return faceList\n",
    "        \n",
    "ok = facial()\n",
    "ok.camera()\n",
    "\n",
    "\n",
    "\n",
    " \n"
   ]
  }
 ],
 "metadata": {
  "kernelspec": {
   "display_name": "Python [conda root]",
   "language": "python",
   "name": "conda-root-py"
  },
  "language_info": {
   "codemirror_mode": {
    "name": "ipython",
    "version": 3
   },
   "file_extension": ".py",
   "mimetype": "text/x-python",
   "name": "python",
   "nbconvert_exporter": "python",
   "pygments_lexer": "ipython3",
   "version": "3.5.3"
  }
 },
 "nbformat": 4,
 "nbformat_minor": 2
}
